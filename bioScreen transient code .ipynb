{
 "cells": [
  {
   "cell_type": "code",
   "execution_count": 90,
   "metadata": {},
   "outputs": [
    {
     "name": "stdout",
     "output_type": "stream",
     "text": [
      "Lmax= 125 C = 4.9704633813763006e-05\n"
     ]
    },
    {
     "data": {
      "text/plain": [
       "Text(0.5, 1.0, 'Bioscreen Contaminant Concentration')"
      ]
     },
     "execution_count": 90,
     "metadata": {},
     "output_type": "execute_result"
    },
    {
     "data": {
      "image/png": "[encoded data removed]",
      "text/plain": [
       "<Figure size 720x432 with 1 Axes>"
      ]
     },
     "metadata": {
      "needs_background": "light"
     },
     "output_type": "display_data"
    }
   ],
   "source": [
    "import numpy as np\n",
    "import scipy as sp\n",
    "from scipy import special\n",
    "import matplotlib.pyplot as plt\n",
    "\n",
    "## Input Parameters\n",
    "Cthres = 5e-5               #[mg/l]       Input Box (lower limit: >0, upper limit: <Co)\n",
    "\n",
    "# time\n",
    "t = 100                      #[y]          Input Box (Default = 20, if below 15, use: (1/la)+5,  upper limit 1000)\n",
    "\n",
    "# Geometry - centreline\n",
    "y = 0                       #[m]          fixed (no Input)\n",
    "z_1 = 0                     #[m]          fixed (no input)\n",
    "z_2 = 3.048                    #[m]          Input slider (lower limit: >0, upper limit:50)   (A.T.)\n",
    "\n",
    "# Source term\n",
    "Co =13.8                     #[mg/l]       Input slider (lower limit: >0, upper limit:1000)  (source conc.)\n",
    "z = (z_1+z_2)/2             #[m]          fixed (no Input)\n",
    "W = 15.24                     #[m]          Input slider (lower limit: >0, upper limit:1000)  (Sorce width)\n",
    "\n",
    "# hydraulic & mixing\n",
    "v = 2.52288                      #[m/y]        Input Box (lower limit: 10, upper limit: 1000)\n",
    "al_x = 10                   #[m]          Input slider (lower limit: 1, upper limit: 100, default: 10) (long. disp.)\n",
    "al_y = 0.1                  #[m]          Input Box (lower limit: 0.1, upper limit: 10, default: 0.5)  (Horizontal trans. disp.)\n",
    "al_z = 0.01                #[m]          Input Box (lower limit: 0.01, upper limit: 1, default: 0.05) (vertical trans. disp.)\n",
    "Df = 0                      #[m^2/y]      Input Box (lower limit: 0 upper limit: 0.1, default: 0)  (eff.diffusion coeff. )\n",
    "\n",
    "# reaction terms\n",
    "R = 1                       #[-]          Input Box (lower limit: 1, upper limit:100, default: 1)  (retardation factor)\n",
    "ga = 0                      #[1/y]        Input Box (lower limit: 0, upper limit: 1, default: 0) (source decay coeff.)\n",
    "la = 5e-1               #[1/y]        Input slider (lower limit: 0, upper limit: 1, default: 0.1) (eff first order decay coeff.)\n",
    "\n",
    "# Gauss points: max 256\n",
    "m = 256                     #[-]          Input Box (possible values: 4,5,6,10,15,20,60,104,256; default: 60)\n",
    "\n",
    "Dx = al_x*v + Df            #[m^2/y]\n",
    "Dy = al_y*v + Df            #[m^2/y]\n",
    "Dz = al_z*v + Df             #[m^2/y]\n",
    "\n",
    "# used data\n",
    "vr = v/R                    #[m/y]\n",
    "Dyr = Dy/R                  #[m^2/y]\n",
    "Dxr = Dx/R                  #[m^2/y]\n",
    "Dyr = Dy/R                  #[m^2/y]\n",
    "Dzr = Dz/R                  #[m^2/y]\n",
    "\n",
    "\n",
    "\n",
    "def C(x):\n",
    "    \n",
    "    # Boundary Condition\n",
    "    \n",
    "    if x<=1e-6:\n",
    "        if y <= W/2 and y >= -W/2 and z <= z_2 and z >= z_1:\n",
    "            C=Co*np.exp(-ga*t)\n",
    "        else:\n",
    "            C=0\n",
    "    else:\n",
    "        \n",
    "        a = Co*np.exp(-ga*t)*x/(8*np.sqrt(np.pi*Dxr))\n",
    "    \n",
    "    \n",
    "        roots = sp.special.roots_legendre(m)[0]\n",
    "        weights = sp.special.roots_legendre(m)[1]\n",
    "    \n",
    "\n",
    "        #scaling\n",
    "    \n",
    "        bot = 0\n",
    "        top = np.sqrt(np.sqrt(t))\n",
    "    \n",
    "        Tau = (roots*(top-bot)+top+bot)/2\n",
    "        Tau4= Tau**4\n",
    "\n",
    "        #calculation\n",
    "            \n",
    "        xTerm = (np.exp(-(((la-ga)*Tau4)+((x-vr*Tau4)**2)/(4*Dxr*Tau4))))/(Tau**3)\n",
    "    \n",
    "        yTerm = sp.special.erfc((y-W/2)/(2*np.sqrt(Dyr*Tau4))) - sp.special.erfc((y+W/2)/(2*np.sqrt(Dyr*Tau4)))\n",
    "    \n",
    "        zTerm = sp.special.erfc((z-z_2)/(2*np.sqrt(Dzr*Tau4))) - sp.special.erfc((z-z_1)/(2*np.sqrt(Dzr*Tau4)))\n",
    "    \n",
    "        Term = xTerm * yTerm * zTerm\n",
    "    \n",
    "        Integrand = Term*(weights*(top-bot)/2)\n",
    "    \n",
    "        C = a*4*sum(Integrand)\n",
    "        \n",
    "    return C\n",
    "\n",
    "x_array = np.array([0])\n",
    "c_array = np.array([C(0)])\n",
    "x = 0\n",
    "while C(x) >= Cthres and x<100000:\n",
    "    x = x+1\n",
    "    x_array = np.append(x_array,x)\n",
    "    c_array = np.append(c_array,C(x))\n",
    "else:\n",
    "    print('Lmax=',x, 'C =',C(x))\n",
    "    np.savetxt('Output', np.column_stack((x_array, c_array)))\n",
    "\n",
    "\n",
    "\n",
    "plt.figure(figsize=(10,6))\n",
    "plt.plot(x_array, c_array)\n",
    "plt.yscale('log')\n",
    "plt.xlabel(r\"x (m)\", fontsize = 12 ); plt.ylabel(r\"Concentration $C$\", fontsize = 12);\n",
    "plt.grid()\n",
    "plt.title('Bioscreen Contaminant Concentration')\n"
   ]
  },
  {
   "cell_type": "code",
   "execution_count": null,
   "metadata": {},
   "outputs": [],
   "source": []
  },
  {
   "cell_type": "code",
   "execution_count": null,
   "metadata": {},
   "outputs": [],
   "source": []
  }
 ],
 "metadata": {
  "kernelspec": {
   "display_name": "Python 3",
   "language": "python",
   "name": "python3"
  },
  "language_info": {
   "codemirror_mode": {
    "name": "ipython",
    "version": 3
   },
   "file_extension": ".py",
   "mimetype": "text/x-python",
   "name": "python",
   "nbconvert_exporter": "python",
   "pygments_lexer": "ipython3",
   "version": "3.8.5"
  }
 },
 "nbformat": 4,
 "nbformat_minor": 4
}
