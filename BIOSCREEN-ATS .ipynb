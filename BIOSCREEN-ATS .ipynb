{
 "cells": [
  {
   "cell_type": "markdown",
   "metadata": {},
   "source": [
    "## Codes for obtaining $L_{max}$ using BIOSCREEN-ATS ##\n",
    "\n",
    "The codes below solves the steady-state solution of the BIOSCREEN-AT solution provided in Karanovic et al. (2007). The derivation of the solution is provided in the main manuscript.\n",
    "\n",
    "$$\n",
    "C(x,y,z) = \\frac{1}{2 HW}\\int\\limits_{-W/2}^{W/2}\\int\\limits_{-H}^{H}C_{ps}(x,y-y',z-z')\\text{d}z'\\text{d}y'\n",
    "$$\n",
    "\n",
    "$$\n",
    "C_{ps}(x,y,z) = C_0\\frac{2HW}{2\\pi\\sqrt{D_x D_y D_z}}\\bigg(\\lambda_{EEF} + \\frac{v^2}{4D_x}\\bigg)^\\frac{3}{2}\\frac{x}{r^2}\\bigg(1+\\frac{1}{r}\\bigg)e^{\\frac{vx}{2D_x}-r}\n",
    "$$\n",
    "\n",
    "$$\n",
    "r= r(x,y,z) = \\sqrt{\\bigg(\\lambda_{EEF} + \\frac{v^2}{4D_x}\\bigg)\\bigg(\\frac{x^2}{D_x} + \\frac{y^2}{D_y} + \\frac{z^2}{D_z}\\bigg)}\n",
    "$$\n",
    "\n",
    "For soliving $L_{max}$ a threshold concentration ($C_{thres}$) is used.  $C_{thres}$ can be any concentration such as water quality standard limit or detection limit. Then $L_{max}$ is the largest distance between the source and the point where  $C_{thres}$ appears along the flow direction.\n",
    "\n",
    "Numerical integration is required for obtaining the solution.\n",
    "\n",
    "**Python** programming codes are used for the solution. The codes are provided below.\n",
    "\n",
    "First, the used Python libraries. Only the following three Python libraries are required."
   ]
  },
  {
   "cell_type": "code",
   "execution_count": 9,
   "metadata": {},
   "outputs": [],
   "source": [
    "import numpy as np\n",
    "import scipy as sp\n",
    "import matplotlib.pyplot as plt"
   ]
  },
  {
   "cell_type": "markdown",
   "metadata": {},
   "source": [
    "**Model inputs**\n",
    "\n",
    "Pls. see the manuscript for details."
   ]
  },
  {
   "cell_type": "code",
   "execution_count": 10,
   "metadata": {},
   "outputs": [],
   "source": [
    "W = 10 # m, source width\n",
    "H = 2 # m, source thickness\n",
    "C_0 = 50 # mg/L, source concentration\n",
    "v = 20 # m/yr, velocity\n",
    "alpha_L = 10 # m, long. dispersivity\n",
    "alpha_Th = 1 # m, trans. hor. disp.\n",
    "alpha_Tv = 0.1 # m, trans. ver. disp\n",
    "D = 0 # diff coeff.\n",
    "D_x = v*alpha_L+D\n",
    "D_y = v*alpha_Th+D\n",
    "D_z = v*alpha_Tv+D\n",
    "lambda_eff= 0.5 # 1/yr degradation constant.\n",
    "Cthres = 5e-5 # mg/L, selected threshold concentration"
   ]
  },
  {
   "cell_type": "markdown",
   "metadata": {},
   "source": [
    "The main code. Pls. note the equation above is modified to provide only the solution for $L_{max}$. \n",
    "\n",
    "In the following cell, the solution provided above is functionalized. Double integral in the solution in returned in the last line of the code."
   ]
  },
  {
   "cell_type": "code",
   "execution_count": 11,
   "metadata": {},
   "outputs": [],
   "source": [
    "def C(x,y,z):\n",
    "        \n",
    "    def C_ps(y,z):\n",
    "        \n",
    "        r = np.sqrt((lambda_eff+v**2/(4*D_x))*(x**2/D_x+y**2/D_y+z**2/D_z))\n",
    "        return C_0*(2*H*W)/(2*np.pi*np.sqrt(D_x*D_y*D_z))*(lambda_eff+v**2/(4*D_x))**(3/2)*x/r**2*(1+(1/r))*np.exp((v*x)/(2*D_x)-r)\n",
    "    \n",
    "    def C_ps2(y2,z2):\n",
    "        \n",
    "        return C_ps(y-y2,z-z2)\n",
    "    \n",
    "    return 1/(2*H*W)*sp.integrate.dblquad(C_ps2,-W/2,W/2,-H,H)[0]"
   ]
  },
  {
   "cell_type": "markdown",
   "metadata": {},
   "source": [
    "In the following cell the functions developed above is implemented. Note that $x<100000$ is used. This can be changed to larger numbers if required. In that case the simulation time maybe longer. \n",
    "\n",
    "Also, note that `C(x,0,0)` is used for obtaining the centerline concentration which has to be less than $C_{thres}$"
   ]
  },
  {
   "cell_type": "code",
   "execution_count": 12,
   "metadata": {},
   "outputs": [
    {
     "name": "stdout",
     "output_type": "stream",
     "text": [
      "Lmax= 495 C = 4.9046433346674535e-05\n"
     ]
    }
   ],
   "source": [
    "x_array = np.array([0])\n",
    "c_array = np.array([C(1,0,0)])\n",
    "x = 1\n",
    "while C(x,0,0) >= Cthres and x<100000:\n",
    "    x = x+1\n",
    "    x_array = np.append(x_array,x)\n",
    "    c_array = np.append(c_array,C(x,0,0))\n",
    "else:\n",
    "    print('Lmax=',x, 'C =',C(x,0,0))"
   ]
  },
  {
   "cell_type": "markdown",
   "metadata": {},
   "source": [
    "Finally, we visualize the concentration along the centreline. "
   ]
  },
  {
   "cell_type": "code",
   "execution_count": 20,
   "metadata": {},
   "outputs": [
    {
     "data": {
      "image/png": "[encoded data removed]",
      "text/plain": [
       "<Figure size 432x288 with 1 Axes>"
      ]
     },
     "metadata": {
      "needs_background": "light"
     },
     "output_type": "display_data"
    }
   ],
   "source": [
    "plt.axes(yscale='log')\n",
    "plt.plot(x_array,c_array)\n",
    "plt.title('BIOSCREEN-ATS',loc='center')\n",
    "plt.xlabel('Distance (m)'); plt.ylabel(r'$\\log$ Concentration (mg/L)') \n",
    "plt.grid()\n",
    "plt.savefig('BIOSCREEN-ATS')"
   ]
  },
  {
   "cell_type": "code",
   "execution_count": null,
   "metadata": {},
   "outputs": [],
   "source": []
  }
 ],
 "metadata": {
  "kernelspec": {
   "display_name": "Python 3",
   "language": "python",
   "name": "python3"
  },
  "language_info": {
   "codemirror_mode": {
    "name": "ipython",
    "version": 3
   },
   "file_extension": ".py",
   "mimetype": "text/x-python",
   "name": "python",
   "nbconvert_exporter": "python",
   "pygments_lexer": "ipython3",
   "version": "3.8.5"
  }
 },
 "nbformat": 4,
 "nbformat_minor": 4
}
